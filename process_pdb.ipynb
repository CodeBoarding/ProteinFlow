{
 "cells": [
  {
   "cell_type": "code",
   "execution_count": 1,
   "metadata": {},
   "outputs": [
    {
     "name": "stderr",
     "output_type": "stream",
     "text": [
      "/opt/conda/lib/python3.9/site-packages/tqdm/auto.py:22: TqdmWarning: IProgress not found. Please update jupyter and ipywidgets. See https://ipywidgets.readthedocs.io/en/stable/user_install.html\n",
      "  from .autonotebook import tqdm as notebook_tqdm\n"
     ]
    }
   ],
   "source": [
    "from utils.parse_pdb import align_pdb, open_pdb, PDBError, get_pdb_file\n",
    "import os\n",
    "import boto3\n",
    "import pickle\n",
    "from tqdm import tqdm\n",
    "from p_tqdm import p_map\n",
    "import sidechainnet as scn\n",
    "import numpy as np\n",
    "from rcsbsearch import TextQuery, Attr\n",
    "import subprocess"
   ]
  },
  {
   "cell_type": "code",
   "execution_count": 2,
   "metadata": {},
   "outputs": [],
   "source": [
    "TMP_FOLDER = \"data/tmp_pdb\"\n",
    "OUTPUT_FOLDER = \"data/pdb\"\n",
    "PDB_PREFIX = \"20220103/pub/pdb/data/biounit/PDB/all/\"\n",
    "\n",
    "i = 0\n",
    "while os.path.exists(f\"./log_{i}.txt\"):\n",
    "    i += 1\n",
    "LOG_FILE = f\"./log_{i}.txt\"\n",
    "\n",
    "if not os.path.exists(TMP_FOLDER):\n",
    "    os.mkdir(TMP_FOLDER)\n",
    "if not os.path.exists(OUTPUT_FOLDER):\n",
    "    os.mkdir(OUTPUT_FOLDER)"
   ]
  },
  {
   "cell_type": "code",
   "execution_count": 3,
   "metadata": {},
   "outputs": [],
   "source": [
    "MIN_LENGTH = 30\n",
    "MAX_LENGTH = 10000\n",
    "RESOLUTION_THR = 3.5\n",
    "MISSING_THR = 0.1"
   ]
  },
  {
   "cell_type": "code",
   "execution_count": 4,
   "metadata": {},
   "outputs": [],
   "source": [
    "def visualize(id):\n",
    "    with open(f\"./data/pdb/{id}.pickle\", \"rb\") as f:\n",
    "        data = pickle.load(f)\n",
    "\n",
    "    crd = np.concatenate([data[\"A\"][\"crd_bb\"], data[\"A\"][\"crd_sc\"]], axis=1).reshape((-1, 3))\n",
    "    seq = data[\"A\"][\"seq\"]\n",
    "    sb2 = scn.StructureBuilder(seq, crd)\n",
    "    return sb2.to_3Dmol()"
   ]
  },
  {
   "cell_type": "code",
   "execution_count": 5,
   "metadata": {},
   "outputs": [],
   "source": [
    "def clean(pdb_id):\n",
    "    for file in os.listdir(TMP_FOLDER):\n",
    "        if file.startswith(pdb_id):\n",
    "            subprocess.run([\"rm\", os.path.join(TMP_FOLDER, file)], stdout=subprocess.DEVNULL, stderr=subprocess.DEVNULL)"
   ]
  },
  {
   "cell_type": "code",
   "execution_count": 6,
   "metadata": {},
   "outputs": [],
   "source": [
    "def get_log_stats(log_file):\n",
    "    stats = defaultdict(lambda: 0)\n",
    "    with open(log_file, \"r\") as f:\n",
    "        for line in f.readlines():\n",
    "            if line.startswith(\"<<<\"):\n",
    "                stats[line.split(':')[0]] += 1\n",
    "    return"
   ]
  },
  {
   "cell_type": "code",
   "execution_count": 7,
   "metadata": {},
   "outputs": [],
   "source": [
    "def log_exception(exception, log_file, pdb_id):\n",
    "    # raise exception\n",
    "    clean(pdb_id)\n",
    "    if isinstance(exception, PDBError):\n",
    "        with open(log_file, \"a\") as f:\n",
    "            f.write(f'<<< {str(exception)}: {pdb_id} \\n')\n",
    "    else:\n",
    "        with open(log_file, \"a\") as f:\n",
    "            f.write(f'<<< Unknown: {pdb_id} \\n')\n",
    "            f.write(str(exception))\n",
    "            f.write(\"\\n\")"
   ]
  },
  {
   "cell_type": "code",
   "execution_count": 8,
   "metadata": {},
   "outputs": [],
   "source": [
    "s3 = boto3.resource('s3')\n",
    "bucket = s3.Bucket(\"pdbsnapshots\")\n",
    "\n",
    "pdb_ids = Attr('rcsb_entry_info.selected_polymer_entity_types').__eq__(\"Protein (only)\") \\\n",
    "    .and_(\"exptl.method\").in_([\"X-RAY DIFFRACTION\", \"ELECTRON MICROSCOPY\"]) \\\n",
    "    .and_(\"rcsb_entry_info.resolution_combined\").__le__(RESOLUTION_THR) \\\n",
    "    .exec(\"assembly\")\n",
    "\n",
    "def process_f(pdb_id, show_error=False, force=True):\n",
    "    pdb_id = pdb_id.lower()\n",
    "    id, biounit = pdb_id.split('-')\n",
    "    target_file = os.path.join(OUTPUT_FOLDER, pdb_id + '.pickle')\n",
    "    if not force and os.path.exists(target_file):\n",
    "        return\n",
    "    pdb_file = PDB_PREFIX + f'{id}.pdb{biounit}.gz'\n",
    "    local_path = get_pdb_file(pdb_file, s3.Bucket(\"pdbsnapshots\"), tmp_folder=TMP_FOLDER)\n",
    "    try:\n",
    "        pdb_dict = open_pdb(\n",
    "            local_path, \n",
    "            tmp_folder=TMP_FOLDER,\n",
    "        )\n",
    "        pdb_dict = align_pdb(pdb_dict, min_length=MIN_LENGTH, max_length=MAX_LENGTH, max_missing=MISSING_THR)\n",
    "    except Exception as e:\n",
    "        if show_error:\n",
    "            raise e\n",
    "        else:\n",
    "            log_exception(e, LOG_FILE, pdb_id)\n",
    "            pdb_dict = None\n",
    "    \n",
    "    if pdb_dict is not None:\n",
    "        with open(target_file, \"wb\") as f:\n",
    "            pickle.dump(pdb_dict, f)\n"
   ]
  },
  {
   "cell_type": "code",
   "execution_count": 9,
   "metadata": {},
   "outputs": [],
   "source": [
    "# process_f(\"101m-1\", show_error=True)"
   ]
  },
  {
   "cell_type": "code",
   "execution_count": 10,
   "metadata": {},
   "outputs": [],
   "source": [
    "N = 300\n",
    "\n",
    "pdbs = []\n",
    "for i, pdb in enumerate(pdb_ids):\n",
    "    pdbs.append(pdb)\n",
    "    if i == N:\n",
    "        break"
   ]
  },
  {
   "cell_type": "code",
   "execution_count": 11,
   "metadata": {},
   "outputs": [
    {
     "name": "stderr",
     "output_type": "stream",
     "text": [
      "100%|██████████| 301/301 [00:57<00:00,  5.22it/s]\n"
     ]
    }
   ],
   "source": [
    "_ = p_map(process_f, pdbs)"
   ]
  },
  {
   "cell_type": "code",
   "execution_count": 12,
   "metadata": {},
   "outputs": [],
   "source": [
    "from multiprocessing import Pool\n",
    "\n",
    "with Pool(10) as pool:\n",
    "    pool.map(process_f, pdbs)"
   ]
  },
  {
   "cell_type": "code",
   "execution_count": null,
   "metadata": {},
   "outputs": [],
   "source": []
  }
 ],
 "metadata": {
  "kernelspec": {
   "display_name": "Python 3.9.13 ('base')",
   "language": "python",
   "name": "python3"
  },
  "language_info": {
   "codemirror_mode": {
    "name": "ipython",
    "version": 3
   },
   "file_extension": ".py",
   "mimetype": "text/x-python",
   "name": "python",
   "nbconvert_exporter": "python",
   "pygments_lexer": "ipython3",
   "version": "3.9.13"
  },
  "orig_nbformat": 4,
  "vscode": {
   "interpreter": {
    "hash": "d4d1e4263499bec80672ea0156c357c1ee493ec2b1c70f0acce89fc37c4a6abe"
   }
  }
 },
 "nbformat": 4,
 "nbformat_minor": 2
}
