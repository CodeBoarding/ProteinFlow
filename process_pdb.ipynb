{
 "cells": [
  {
   "cell_type": "code",
   "execution_count": 1,
   "metadata": {},
   "outputs": [
    {
     "name": "stderr",
     "output_type": "stream",
     "text": [
      "/opt/conda/lib/python3.9/site-packages/tqdm/auto.py:22: TqdmWarning: IProgress not found. Please update jupyter and ipywidgets. See https://ipywidgets.readthedocs.io/en/stable/user_install.html\n",
      "  from .autonotebook import tqdm as notebook_tqdm\n"
     ]
    }
   ],
   "source": [
    "from utils.parse_pdb import align_pdb, open_pdb, PDBError, get_pdb_file\n",
    "import os\n",
    "import boto3\n",
    "import pickle\n",
    "from tqdm import tqdm\n",
    "from p_tqdm import p_map\n",
    "import sidechainnet as scn\n",
    "import numpy as np\n",
    "from rcsbsearch import TextQuery, Attr\n",
    "import subprocess"
   ]
  },
  {
   "cell_type": "code",
   "execution_count": 4,
   "metadata": {},
   "outputs": [],
   "source": [
    "def visualize(id):\n",
    "    with open(f\"./data/pdb/{id}.pickle\", \"rb\") as f:\n",
    "        data = pickle.load(f)\n",
    "\n",
    "    crd = np.concatenate([data[\"A\"][\"crd_bb\"], data[\"A\"][\"crd_sc\"]], axis=1).reshape((-1, 3))\n",
    "    seq = data[\"A\"][\"seq\"]\n",
    "    sb2 = scn.StructureBuilder(seq, crd)\n",
    "    return sb2.to_3Dmol()"
   ]
  },
  {
   "cell_type": "code",
   "execution_count": 6,
   "metadata": {},
   "outputs": [],
   "source": [
    "def get_log_stats(log_file):\n",
    "    stats = defaultdict(lambda: 0)\n",
    "    with open(log_file, \"r\") as f:\n",
    "        for line in f.readlines():\n",
    "            if line.startswith(\"<<<\"):\n",
    "                stats[line.split(':')[0]] += 1\n",
    "    for key, value in stats.items():\n",
    "        print(f'{key}: {value}')"
   ]
  },
  {
   "cell_type": "code",
   "execution_count": null,
   "metadata": {},
   "outputs": [],
   "source": []
  }
 ],
 "metadata": {
  "kernelspec": {
   "display_name": "Python 3.9.13 ('base')",
   "language": "python",
   "name": "python3"
  },
  "language_info": {
   "codemirror_mode": {
    "name": "ipython",
    "version": 3
   },
   "file_extension": ".py",
   "mimetype": "text/x-python",
   "name": "python",
   "nbconvert_exporter": "python",
   "pygments_lexer": "ipython3",
   "version": "3.9.13"
  },
  "orig_nbformat": 4,
  "vscode": {
   "interpreter": {
    "hash": "d4d1e4263499bec80672ea0156c357c1ee493ec2b1c70f0acce89fc37c4a6abe"
   }
  }
 },
 "nbformat": 4,
 "nbformat_minor": 2
}
